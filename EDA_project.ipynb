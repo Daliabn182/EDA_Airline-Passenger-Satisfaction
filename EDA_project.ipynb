{
  "nbformat": 4,
  "nbformat_minor": 5,
  "metadata": {
    "kernelspec": {
      "display_name": "Python 3",
      "language": "python",
      "name": "python3"
    },
    "language_info": {
      "codemirror_mode": {
        "name": "ipython",
        "version": 3
      },
      "file_extension": ".py",
      "mimetype": "text/x-python",
      "name": "python",
      "nbconvert_exporter": "python",
      "pygments_lexer": "ipython3",
      "version": "3.8.8"
    },
    "colab": {
      "name": "EDA_project.ipynb",
      "provenance": [],
      "collapsed_sections": []
    }
  },
  "cells": [
    {
      "cell_type": "code",
      "metadata": {
        "id": "c2c85ced"
      },
      "source": [
        "#load libraries\n",
        "import pandas as pd\n",
        "import numpy as np\n",
        "import matplotlib.pyplot as plt\n",
        "import seaborn as sns\n",
        "import plotly.express as px"
      ],
      "id": "c2c85ced",
      "execution_count": 57,
      "outputs": []
    },
    {
      "cell_type": "code",
      "metadata": {
        "colab": {
          "resources": {
            "http://localhost:8080/nbextensions/google.colab/files.js": {
              "data": "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",
              "ok": true,
              "headers": [
                [
                  "content-type",
                  "application/javascript"
                ]
              ],
              "status": 200,
              "status_text": ""
            }
          },
          "base_uri": "https://localhost:8080/",
          "height": 73
        },
        "id": "YansG3QkUqSh",
        "outputId": "b7e19059-a05e-4d5a-ab9e-4b6bb268a9c2"
      },
      "source": [
        "from google.colab import files\n",
        "uploaded = files.upload()"
      ],
      "id": "YansG3QkUqSh",
      "execution_count": 58,
      "outputs": [
        {
          "output_type": "display_data",
          "data": {
            "text/html": [
              "\n",
              "     <input type=\"file\" id=\"files-24c3e252-32c6-46f1-8b74-b9503e123445\" name=\"files[]\" multiple disabled\n",
              "        style=\"border:none\" />\n",
              "     <output id=\"result-24c3e252-32c6-46f1-8b74-b9503e123445\">\n",
              "      Upload widget is only available when the cell has been executed in the\n",
              "      current browser session. Please rerun this cell to enable.\n",
              "      </output>\n",
              "      <script src=\"/nbextensions/google.colab/files.js\"></script> "
            ],
            "text/plain": [
              "<IPython.core.display.HTML object>"
            ]
          },
          "metadata": {}
        },
        {
          "output_type": "stream",
          "name": "stdout",
          "text": [
            "Saving train.csv to train (1).csv\n"
          ]
        }
      ]
    },
    {
      "cell_type": "code",
      "metadata": {
        "id": "98f9a64c"
      },
      "source": [
        "# Read data\n",
        "df= pd.read_csv('train.csv',index_col=0) "
      ],
      "id": "98f9a64c",
      "execution_count": 59,
      "outputs": []
    },
    {
      "cell_type": "code",
      "metadata": {
        "colab": {
          "base_uri": "https://localhost:8080/",
          "height": 598
        },
        "id": "d9ba099e",
        "outputId": "36d47de2-0e4b-4660-8e91-4b597913c3be"
      },
      "source": [
        "#show frist ten rows \n",
        "df.head(10)"
      ],
      "id": "d9ba099e",
      "execution_count": 60,
      "outputs": [
        {
          "output_type": "execute_result",
          "data": {
            "text/html": [
              "<div>\n",
              "<style scoped>\n",
              "    .dataframe tbody tr th:only-of-type {\n",
              "        vertical-align: middle;\n",
              "    }\n",
              "\n",
              "    .dataframe tbody tr th {\n",
              "        vertical-align: top;\n",
              "    }\n",
              "\n",
              "    .dataframe thead th {\n",
              "        text-align: right;\n",
              "    }\n",
              "</style>\n",
              "<table border=\"1\" class=\"dataframe\">\n",
              "  <thead>\n",
              "    <tr style=\"text-align: right;\">\n",
              "      <th></th>\n",
              "      <th>id</th>\n",
              "      <th>Gender</th>\n",
              "      <th>Customer Type</th>\n",
              "      <th>Age</th>\n",
              "      <th>Type of Travel</th>\n",
              "      <th>Class</th>\n",
              "      <th>Flight Distance</th>\n",
              "      <th>Inflight wifi service</th>\n",
              "      <th>Departure/Arrival time convenient</th>\n",
              "      <th>Ease of Online booking</th>\n",
              "      <th>Gate location</th>\n",
              "      <th>Food and drink</th>\n",
              "      <th>Online boarding</th>\n",
              "      <th>Seat comfort</th>\n",
              "      <th>Inflight entertainment</th>\n",
              "      <th>On-board service</th>\n",
              "      <th>Leg room service</th>\n",
              "      <th>Baggage handling</th>\n",
              "      <th>Checkin service</th>\n",
              "      <th>Inflight service</th>\n",
              "      <th>Cleanliness</th>\n",
              "      <th>Departure Delay in Minutes</th>\n",
              "      <th>Arrival Delay in Minutes</th>\n",
              "      <th>satisfaction</th>\n",
              "    </tr>\n",
              "  </thead>\n",
              "  <tbody>\n",
              "    <tr>\n",
              "      <th>0</th>\n",
              "      <td>70172</td>\n",
              "      <td>Male</td>\n",
              "      <td>Loyal Customer</td>\n",
              "      <td>13</td>\n",
              "      <td>Personal Travel</td>\n",
              "      <td>Eco Plus</td>\n",
              "      <td>460</td>\n",
              "      <td>3</td>\n",
              "      <td>4</td>\n",
              "      <td>3</td>\n",
              "      <td>1</td>\n",
              "      <td>5</td>\n",
              "      <td>3</td>\n",
              "      <td>5</td>\n",
              "      <td>5</td>\n",
              "      <td>4</td>\n",
              "      <td>3</td>\n",
              "      <td>4</td>\n",
              "      <td>4</td>\n",
              "      <td>5</td>\n",
              "      <td>5</td>\n",
              "      <td>25</td>\n",
              "      <td>18.0</td>\n",
              "      <td>neutral or dissatisfied</td>\n",
              "    </tr>\n",
              "    <tr>\n",
              "      <th>1</th>\n",
              "      <td>5047</td>\n",
              "      <td>Male</td>\n",
              "      <td>disloyal Customer</td>\n",
              "      <td>25</td>\n",
              "      <td>Business travel</td>\n",
              "      <td>Business</td>\n",
              "      <td>235</td>\n",
              "      <td>3</td>\n",
              "      <td>2</td>\n",
              "      <td>3</td>\n",
              "      <td>3</td>\n",
              "      <td>1</td>\n",
              "      <td>3</td>\n",
              "      <td>1</td>\n",
              "      <td>1</td>\n",
              "      <td>1</td>\n",
              "      <td>5</td>\n",
              "      <td>3</td>\n",
              "      <td>1</td>\n",
              "      <td>4</td>\n",
              "      <td>1</td>\n",
              "      <td>1</td>\n",
              "      <td>6.0</td>\n",
              "      <td>neutral or dissatisfied</td>\n",
              "    </tr>\n",
              "    <tr>\n",
              "      <th>2</th>\n",
              "      <td>110028</td>\n",
              "      <td>Female</td>\n",
              "      <td>Loyal Customer</td>\n",
              "      <td>26</td>\n",
              "      <td>Business travel</td>\n",
              "      <td>Business</td>\n",
              "      <td>1142</td>\n",
              "      <td>2</td>\n",
              "      <td>2</td>\n",
              "      <td>2</td>\n",
              "      <td>2</td>\n",
              "      <td>5</td>\n",
              "      <td>5</td>\n",
              "      <td>5</td>\n",
              "      <td>5</td>\n",
              "      <td>4</td>\n",
              "      <td>3</td>\n",
              "      <td>4</td>\n",
              "      <td>4</td>\n",
              "      <td>4</td>\n",
              "      <td>5</td>\n",
              "      <td>0</td>\n",
              "      <td>0.0</td>\n",
              "      <td>satisfied</td>\n",
              "    </tr>\n",
              "    <tr>\n",
              "      <th>3</th>\n",
              "      <td>24026</td>\n",
              "      <td>Female</td>\n",
              "      <td>Loyal Customer</td>\n",
              "      <td>25</td>\n",
              "      <td>Business travel</td>\n",
              "      <td>Business</td>\n",
              "      <td>562</td>\n",
              "      <td>2</td>\n",
              "      <td>5</td>\n",
              "      <td>5</td>\n",
              "      <td>5</td>\n",
              "      <td>2</td>\n",
              "      <td>2</td>\n",
              "      <td>2</td>\n",
              "      <td>2</td>\n",
              "      <td>2</td>\n",
              "      <td>5</td>\n",
              "      <td>3</td>\n",
              "      <td>1</td>\n",
              "      <td>4</td>\n",
              "      <td>2</td>\n",
              "      <td>11</td>\n",
              "      <td>9.0</td>\n",
              "      <td>neutral or dissatisfied</td>\n",
              "    </tr>\n",
              "    <tr>\n",
              "      <th>4</th>\n",
              "      <td>119299</td>\n",
              "      <td>Male</td>\n",
              "      <td>Loyal Customer</td>\n",
              "      <td>61</td>\n",
              "      <td>Business travel</td>\n",
              "      <td>Business</td>\n",
              "      <td>214</td>\n",
              "      <td>3</td>\n",
              "      <td>3</td>\n",
              "      <td>3</td>\n",
              "      <td>3</td>\n",
              "      <td>4</td>\n",
              "      <td>5</td>\n",
              "      <td>5</td>\n",
              "      <td>3</td>\n",
              "      <td>3</td>\n",
              "      <td>4</td>\n",
              "      <td>4</td>\n",
              "      <td>3</td>\n",
              "      <td>3</td>\n",
              "      <td>3</td>\n",
              "      <td>0</td>\n",
              "      <td>0.0</td>\n",
              "      <td>satisfied</td>\n",
              "    </tr>\n",
              "    <tr>\n",
              "      <th>5</th>\n",
              "      <td>111157</td>\n",
              "      <td>Female</td>\n",
              "      <td>Loyal Customer</td>\n",
              "      <td>26</td>\n",
              "      <td>Personal Travel</td>\n",
              "      <td>Eco</td>\n",
              "      <td>1180</td>\n",
              "      <td>3</td>\n",
              "      <td>4</td>\n",
              "      <td>2</td>\n",
              "      <td>1</td>\n",
              "      <td>1</td>\n",
              "      <td>2</td>\n",
              "      <td>1</td>\n",
              "      <td>1</td>\n",
              "      <td>3</td>\n",
              "      <td>4</td>\n",
              "      <td>4</td>\n",
              "      <td>4</td>\n",
              "      <td>4</td>\n",
              "      <td>1</td>\n",
              "      <td>0</td>\n",
              "      <td>0.0</td>\n",
              "      <td>neutral or dissatisfied</td>\n",
              "    </tr>\n",
              "    <tr>\n",
              "      <th>6</th>\n",
              "      <td>82113</td>\n",
              "      <td>Male</td>\n",
              "      <td>Loyal Customer</td>\n",
              "      <td>47</td>\n",
              "      <td>Personal Travel</td>\n",
              "      <td>Eco</td>\n",
              "      <td>1276</td>\n",
              "      <td>2</td>\n",
              "      <td>4</td>\n",
              "      <td>2</td>\n",
              "      <td>3</td>\n",
              "      <td>2</td>\n",
              "      <td>2</td>\n",
              "      <td>2</td>\n",
              "      <td>2</td>\n",
              "      <td>3</td>\n",
              "      <td>3</td>\n",
              "      <td>4</td>\n",
              "      <td>3</td>\n",
              "      <td>5</td>\n",
              "      <td>2</td>\n",
              "      <td>9</td>\n",
              "      <td>23.0</td>\n",
              "      <td>neutral or dissatisfied</td>\n",
              "    </tr>\n",
              "    <tr>\n",
              "      <th>7</th>\n",
              "      <td>96462</td>\n",
              "      <td>Female</td>\n",
              "      <td>Loyal Customer</td>\n",
              "      <td>52</td>\n",
              "      <td>Business travel</td>\n",
              "      <td>Business</td>\n",
              "      <td>2035</td>\n",
              "      <td>4</td>\n",
              "      <td>3</td>\n",
              "      <td>4</td>\n",
              "      <td>4</td>\n",
              "      <td>5</td>\n",
              "      <td>5</td>\n",
              "      <td>5</td>\n",
              "      <td>5</td>\n",
              "      <td>5</td>\n",
              "      <td>5</td>\n",
              "      <td>5</td>\n",
              "      <td>4</td>\n",
              "      <td>5</td>\n",
              "      <td>4</td>\n",
              "      <td>4</td>\n",
              "      <td>0.0</td>\n",
              "      <td>satisfied</td>\n",
              "    </tr>\n",
              "    <tr>\n",
              "      <th>8</th>\n",
              "      <td>79485</td>\n",
              "      <td>Female</td>\n",
              "      <td>Loyal Customer</td>\n",
              "      <td>41</td>\n",
              "      <td>Business travel</td>\n",
              "      <td>Business</td>\n",
              "      <td>853</td>\n",
              "      <td>1</td>\n",
              "      <td>2</td>\n",
              "      <td>2</td>\n",
              "      <td>2</td>\n",
              "      <td>4</td>\n",
              "      <td>3</td>\n",
              "      <td>3</td>\n",
              "      <td>1</td>\n",
              "      <td>1</td>\n",
              "      <td>2</td>\n",
              "      <td>1</td>\n",
              "      <td>4</td>\n",
              "      <td>1</td>\n",
              "      <td>2</td>\n",
              "      <td>0</td>\n",
              "      <td>0.0</td>\n",
              "      <td>neutral or dissatisfied</td>\n",
              "    </tr>\n",
              "    <tr>\n",
              "      <th>9</th>\n",
              "      <td>65725</td>\n",
              "      <td>Male</td>\n",
              "      <td>disloyal Customer</td>\n",
              "      <td>20</td>\n",
              "      <td>Business travel</td>\n",
              "      <td>Eco</td>\n",
              "      <td>1061</td>\n",
              "      <td>3</td>\n",
              "      <td>3</td>\n",
              "      <td>3</td>\n",
              "      <td>4</td>\n",
              "      <td>2</td>\n",
              "      <td>3</td>\n",
              "      <td>3</td>\n",
              "      <td>2</td>\n",
              "      <td>2</td>\n",
              "      <td>3</td>\n",
              "      <td>4</td>\n",
              "      <td>4</td>\n",
              "      <td>3</td>\n",
              "      <td>2</td>\n",
              "      <td>0</td>\n",
              "      <td>0.0</td>\n",
              "      <td>neutral or dissatisfied</td>\n",
              "    </tr>\n",
              "  </tbody>\n",
              "</table>\n",
              "</div>"
            ],
            "text/plain": [
              "       id  Gender  ... Arrival Delay in Minutes             satisfaction\n",
              "0   70172    Male  ...                     18.0  neutral or dissatisfied\n",
              "1    5047    Male  ...                      6.0  neutral or dissatisfied\n",
              "2  110028  Female  ...                      0.0                satisfied\n",
              "3   24026  Female  ...                      9.0  neutral or dissatisfied\n",
              "4  119299    Male  ...                      0.0                satisfied\n",
              "5  111157  Female  ...                      0.0  neutral or dissatisfied\n",
              "6   82113    Male  ...                     23.0  neutral or dissatisfied\n",
              "7   96462  Female  ...                      0.0                satisfied\n",
              "8   79485  Female  ...                      0.0  neutral or dissatisfied\n",
              "9   65725    Male  ...                      0.0  neutral or dissatisfied\n",
              "\n",
              "[10 rows x 24 columns]"
            ]
          },
          "metadata": {},
          "execution_count": 60
        }
      ]
    },
    {
      "cell_type": "code",
      "metadata": {
        "colab": {
          "base_uri": "https://localhost:8080/"
        },
        "id": "67988bda",
        "outputId": "d010963b-da10-412c-b1b9-067848508969"
      },
      "source": [
        "# show data details\n",
        "df.info()"
      ],
      "id": "67988bda",
      "execution_count": 61,
      "outputs": [
        {
          "output_type": "stream",
          "name": "stdout",
          "text": [
            "<class 'pandas.core.frame.DataFrame'>\n",
            "Int64Index: 103904 entries, 0 to 103903\n",
            "Data columns (total 24 columns):\n",
            " #   Column                             Non-Null Count   Dtype  \n",
            "---  ------                             --------------   -----  \n",
            " 0   id                                 103904 non-null  int64  \n",
            " 1   Gender                             103904 non-null  object \n",
            " 2   Customer Type                      103904 non-null  object \n",
            " 3   Age                                103904 non-null  int64  \n",
            " 4   Type of Travel                     103904 non-null  object \n",
            " 5   Class                              103904 non-null  object \n",
            " 6   Flight Distance                    103904 non-null  int64  \n",
            " 7   Inflight wifi service              103904 non-null  int64  \n",
            " 8   Departure/Arrival time convenient  103904 non-null  int64  \n",
            " 9   Ease of Online booking             103904 non-null  int64  \n",
            " 10  Gate location                      103904 non-null  int64  \n",
            " 11  Food and drink                     103904 non-null  int64  \n",
            " 12  Online boarding                    103904 non-null  int64  \n",
            " 13  Seat comfort                       103904 non-null  int64  \n",
            " 14  Inflight entertainment             103904 non-null  int64  \n",
            " 15  On-board service                   103904 non-null  int64  \n",
            " 16  Leg room service                   103904 non-null  int64  \n",
            " 17  Baggage handling                   103904 non-null  int64  \n",
            " 18  Checkin service                    103904 non-null  int64  \n",
            " 19  Inflight service                   103904 non-null  int64  \n",
            " 20  Cleanliness                        103904 non-null  int64  \n",
            " 21  Departure Delay in Minutes         103904 non-null  int64  \n",
            " 22  Arrival Delay in Minutes           103594 non-null  float64\n",
            " 23  satisfaction                       103904 non-null  object \n",
            "dtypes: float64(1), int64(18), object(5)\n",
            "memory usage: 19.8+ MB\n"
          ]
        }
      ]
    },
    {
      "cell_type": "code",
      "metadata": {
        "colab": {
          "base_uri": "https://localhost:8080/"
        },
        "id": "c9cd4632",
        "outputId": "263c2cc4-07c2-4d3f-854d-d243f0cbaf47"
      },
      "source": [
        "#show number of rows and columns\n",
        "df.shape"
      ],
      "id": "c9cd4632",
      "execution_count": 62,
      "outputs": [
        {
          "output_type": "execute_result",
          "data": {
            "text/plain": [
              "(103904, 24)"
            ]
          },
          "metadata": {},
          "execution_count": 62
        }
      ]
    },
    {
      "cell_type": "code",
      "metadata": {
        "id": "8b0eff1c"
      },
      "source": [
        "#Data cleaning:\n",
        "\n",
        "# Change column names\n",
        "df.columns = df.columns.str.replace(' ','_', regex = True)\n"
      ],
      "id": "8b0eff1c",
      "execution_count": 63,
      "outputs": []
    },
    {
      "cell_type": "code",
      "metadata": {
        "colab": {
          "base_uri": "https://localhost:8080/"
        },
        "id": "543a88e3",
        "outputId": "fb555232-35e1-431d-c9f5-4d9067a7b1c0"
      },
      "source": [
        "df.info()"
      ],
      "id": "543a88e3",
      "execution_count": 64,
      "outputs": [
        {
          "output_type": "stream",
          "name": "stdout",
          "text": [
            "<class 'pandas.core.frame.DataFrame'>\n",
            "Int64Index: 103904 entries, 0 to 103903\n",
            "Data columns (total 24 columns):\n",
            " #   Column                             Non-Null Count   Dtype  \n",
            "---  ------                             --------------   -----  \n",
            " 0   id                                 103904 non-null  int64  \n",
            " 1   Gender                             103904 non-null  object \n",
            " 2   Customer_Type                      103904 non-null  object \n",
            " 3   Age                                103904 non-null  int64  \n",
            " 4   Type_of_Travel                     103904 non-null  object \n",
            " 5   Class                              103904 non-null  object \n",
            " 6   Flight_Distance                    103904 non-null  int64  \n",
            " 7   Inflight_wifi_service              103904 non-null  int64  \n",
            " 8   Departure/Arrival_time_convenient  103904 non-null  int64  \n",
            " 9   Ease_of_Online_booking             103904 non-null  int64  \n",
            " 10  Gate_location                      103904 non-null  int64  \n",
            " 11  Food_and_drink                     103904 non-null  int64  \n",
            " 12  Online_boarding                    103904 non-null  int64  \n",
            " 13  Seat_comfort                       103904 non-null  int64  \n",
            " 14  Inflight_entertainment             103904 non-null  int64  \n",
            " 15  On-board_service                   103904 non-null  int64  \n",
            " 16  Leg_room_service                   103904 non-null  int64  \n",
            " 17  Baggage_handling                   103904 non-null  int64  \n",
            " 18  Checkin_service                    103904 non-null  int64  \n",
            " 19  Inflight_service                   103904 non-null  int64  \n",
            " 20  Cleanliness                        103904 non-null  int64  \n",
            " 21  Departure_Delay_in_Minutes         103904 non-null  int64  \n",
            " 22  Arrival_Delay_in_Minutes           103594 non-null  float64\n",
            " 23  satisfaction                       103904 non-null  object \n",
            "dtypes: float64(1), int64(18), object(5)\n",
            "memory usage: 19.8+ MB\n"
          ]
        }
      ]
    },
    {
      "cell_type": "code",
      "metadata": {
        "id": "2d8c07de"
      },
      "source": [
        "#Delete all null values in this column \n",
        "df.dropna(subset=[\"Arrival_Delay_in_Minutes\"], inplace=True)"
      ],
      "id": "2d8c07de",
      "execution_count": 65,
      "outputs": []
    },
    {
      "cell_type": "code",
      "metadata": {
        "colab": {
          "base_uri": "https://localhost:8080/"
        },
        "id": "381b3d17",
        "outputId": "c7e6a50e-7dcf-4847-c232-1d702e189d86"
      },
      "source": [
        "df.dropna(subset=[\"Arrival_Delay_in_Minutes\"]).shape"
      ],
      "id": "381b3d17",
      "execution_count": 66,
      "outputs": [
        {
          "output_type": "execute_result",
          "data": {
            "text/plain": [
              "(103594, 24)"
            ]
          },
          "metadata": {},
          "execution_count": 66
        }
      ]
    },
    {
      "cell_type": "code",
      "metadata": {
        "id": "05a8dd4c"
      },
      "source": [
        "#Delete unnecessary columns\n",
        "df.drop(['id'], axis=1, inplace=True)"
      ],
      "id": "05a8dd4c",
      "execution_count": 67,
      "outputs": []
    },
    {
      "cell_type": "code",
      "metadata": {
        "colab": {
          "base_uri": "https://localhost:8080/"
        },
        "id": "66fff0b5",
        "outputId": "14ca38af-5de7-4761-a45b-6e5961f6cd8b"
      },
      "source": [
        "df.shape"
      ],
      "id": "66fff0b5",
      "execution_count": 68,
      "outputs": [
        {
          "output_type": "execute_result",
          "data": {
            "text/plain": [
              "(103594, 23)"
            ]
          },
          "metadata": {},
          "execution_count": 68
        }
      ]
    },
    {
      "cell_type": "code",
      "metadata": {
        "colab": {
          "base_uri": "https://localhost:8080/"
        },
        "id": "a44d93d8",
        "outputId": "22fbe45c-6ffe-45b0-af62-438cb7af04fe"
      },
      "source": [
        "df.info()"
      ],
      "id": "a44d93d8",
      "execution_count": 69,
      "outputs": [
        {
          "output_type": "stream",
          "name": "stdout",
          "text": [
            "<class 'pandas.core.frame.DataFrame'>\n",
            "Int64Index: 103594 entries, 0 to 103903\n",
            "Data columns (total 23 columns):\n",
            " #   Column                             Non-Null Count   Dtype  \n",
            "---  ------                             --------------   -----  \n",
            " 0   Gender                             103594 non-null  object \n",
            " 1   Customer_Type                      103594 non-null  object \n",
            " 2   Age                                103594 non-null  int64  \n",
            " 3   Type_of_Travel                     103594 non-null  object \n",
            " 4   Class                              103594 non-null  object \n",
            " 5   Flight_Distance                    103594 non-null  int64  \n",
            " 6   Inflight_wifi_service              103594 non-null  int64  \n",
            " 7   Departure/Arrival_time_convenient  103594 non-null  int64  \n",
            " 8   Ease_of_Online_booking             103594 non-null  int64  \n",
            " 9   Gate_location                      103594 non-null  int64  \n",
            " 10  Food_and_drink                     103594 non-null  int64  \n",
            " 11  Online_boarding                    103594 non-null  int64  \n",
            " 12  Seat_comfort                       103594 non-null  int64  \n",
            " 13  Inflight_entertainment             103594 non-null  int64  \n",
            " 14  On-board_service                   103594 non-null  int64  \n",
            " 15  Leg_room_service                   103594 non-null  int64  \n",
            " 16  Baggage_handling                   103594 non-null  int64  \n",
            " 17  Checkin_service                    103594 non-null  int64  \n",
            " 18  Inflight_service                   103594 non-null  int64  \n",
            " 19  Cleanliness                        103594 non-null  int64  \n",
            " 20  Departure_Delay_in_Minutes         103594 non-null  int64  \n",
            " 21  Arrival_Delay_in_Minutes           103594 non-null  float64\n",
            " 22  satisfaction                       103594 non-null  object \n",
            "dtypes: float64(1), int64(17), object(5)\n",
            "memory usage: 19.0+ MB\n"
          ]
        }
      ]
    },
    {
      "cell_type": "code",
      "metadata": {
        "colab": {
          "base_uri": "https://localhost:8080/",
          "height": 369
        },
        "id": "L_F3GbpE6UP9",
        "outputId": "b81a9991-008b-4779-8727-acd4aaf8250a"
      },
      "source": [
        "#\tAre most passengers satisfied, dissatisfied or neutral in general for the airline? \n",
        "sns.displot(data=df, x=\"satisfaction\", hue=\"satisfaction\", multiple=\"stack\");"
      ],
      "id": "L_F3GbpE6UP9",
      "execution_count": 70,
      "outputs": [
        {
          "output_type": "display_data",
          "data": {
            "image/png": "[encoded data removed]",
            "text/plain": [
              "<Figure size 505.125x360 with 1 Axes>"
            ]
          },
          "metadata": {
            "needs_background": "light"
          }
        }
      ]
    },
    {
      "cell_type": "code",
      "metadata": {
        "colab": {
          "base_uri": "https://localhost:8080/"
        },
        "id": "06bd333d",
        "outputId": "140bb77b-d2d7-46a1-8baf-190aa6967a4a"
      },
      "source": [
        "#Q1: What is the most preferred class of travel for customers traveling ?\n",
        "df['Type_of_Travel'].nunique()\n"
      ],
      "id": "06bd333d",
      "execution_count": 95,
      "outputs": [
        {
          "output_type": "execute_result",
          "data": {
            "text/plain": [
              "2"
            ]
          },
          "metadata": {},
          "execution_count": 95
        }
      ]
    },
    {
      "cell_type": "code",
      "metadata": {
        "colab": {
          "base_uri": "https://localhost:8080/"
        },
        "id": "6780333b",
        "outputId": "bcd5fe6f-ed2f-4a62-f791-cf21b0a5c90e"
      },
      "source": [
        "df['Type_of_Travel'].unique()\n"
      ],
      "id": "6780333b",
      "execution_count": 72,
      "outputs": [
        {
          "output_type": "execute_result",
          "data": {
            "text/plain": [
              "array(['Personal Travel', 'Business travel'], dtype=object)"
            ]
          },
          "metadata": {},
          "execution_count": 72
        }
      ]
    },
    {
      "cell_type": "code",
      "metadata": {
        "colab": {
          "base_uri": "https://localhost:8080/"
        },
        "id": "b9fa6f33",
        "outputId": "d14db16f-0e9c-4a61-b1bb-0935a48a26fc"
      },
      "source": [
        "df['Type_of_Travel'].value_counts()\n"
      ],
      "id": "b9fa6f33",
      "execution_count": 73,
      "outputs": [
        {
          "output_type": "execute_result",
          "data": {
            "text/plain": [
              "Business travel    71465\n",
              "Personal Travel    32129\n",
              "Name: Type_of_Travel, dtype: int64"
            ]
          },
          "metadata": {},
          "execution_count": 73
        }
      ]
    },
    {
      "cell_type": "code",
      "metadata": {
        "colab": {
          "base_uri": "https://localhost:8080/",
          "height": 360
        },
        "id": "076e2966",
        "outputId": "57c4ea36-fc73-4e36-fff9-8bf4100ff401"
      },
      "source": [
        "plt.figure(figsize=[9,5])\n",
        "type_of_travel=['Business travel','Personal Travel']\n",
        "very_frq=[17980,7913] # business and personal travel \n",
        "plt.grid()\n",
        "plt.bar(type_of_travel,very_frq,color=['darkorange','darkblue']);\n",
        "plt.xlabel('Types of travel',fontsize = 15)\n",
        "plt.ylabel('Preference number',fontsize = 15);\n",
        "plt.title('Show of the preferred type ',fontsize = 20, family = 'cursive' ,weight = 'bold');\n"
      ],
      "id": "076e2966",
      "execution_count": 74,
      "outputs": [
        {
          "output_type": "display_data",
          "data": {
            "image/png": "[encoded data removed]",
            "text/plain": [
              "<Figure size 648x360 with 1 Axes>"
            ]
          },
          "metadata": {
            "needs_background": "light"
          }
        }
      ]
    },
    {
      "cell_type": "code",
      "metadata": {
        "colab": {
          "base_uri": "https://localhost:8080/",
          "height": 405
        },
        "id": "n27gvzFRjA3y",
        "outputId": "b8171df0-e960-49f3-d645-bea8937969d1"
      },
      "source": [
        "# What type of class was more satisfied passengers?\n",
        "# depends on type of travle and flight distance\n",
        "\n",
        "with sns.axes_style('white'):\n",
        "    g = sns.catplot(x=\"Flight_Distance\", y=\"Type_of_Travel\", hue=\"satisfaction\", col=\"Class\", data=df, kind=\"bar\", height=5.5, aspect=.8)"
      ],
      "id": "n27gvzFRjA3y",
      "execution_count": 75,
      "outputs": [
        {
          "output_type": "display_data",
          "data": {
            "image/png": "[encoded data removed]",
            "text/plain": [
              "<Figure size 1095.53x396 with 3 Axes>"
            ]
          },
          "metadata": {}
        }
      ]
    },
    {
      "cell_type": "code",
      "metadata": {
        "colab": {
          "base_uri": "https://localhost:8080/",
          "height": 460
        },
        "id": "e9bIx6HRyIKL",
        "outputId": "8f291118-d4f9-4e73-8424-231784844009"
      },
      "source": [
        "# What age group was more satisfied with the aireline service? \n",
        "\n",
        "with sns.axes_style('white'):\n",
        "    g = sns.catplot(\"Age\", data=df, aspect=3.0, kind='count', hue='satisfaction', order=range(5, 80));\n",
        "    g.set_ylabels('Age vs Passenger Satisfaction');"
      ],
      "id": "e9bIx6HRyIKL",
      "execution_count": 76,
      "outputs": [
        {
          "output_type": "stream",
          "name": "stderr",
          "text": [
            "/usr/local/lib/python3.7/dist-packages/seaborn/_decorators.py:43: FutureWarning:\n",
            "\n",
            "Pass the following variable as a keyword arg: x. From version 0.12, the only valid positional argument will be `data`, and passing other arguments without an explicit keyword will result in an error or misinterpretation.\n",
            "\n"
          ]
        },
        {
          "output_type": "display_data",
          "data": {
            "image/png": "[encoded data removed]",
            "text/plain": [
              "<Figure size 1225.12x360 with 1 Axes>"
            ]
          },
          "metadata": {}
        }
      ]
    },
    {
      "cell_type": "code",
      "metadata": {
        "colab": {
          "base_uri": "https://localhost:8080/",
          "height": 595
        },
        "id": "T42Dpaqlz-k8",
        "outputId": "f7190486-0421-4654-ad41-c7c3e298cdb9"
      },
      "source": [
        "# satisfied passengers were more in wihch class loyal customers or disloyal customers ?\n",
        "with sns.axes_style(style='ticks'):\n",
        "    g = sns.catplot(\"satisfaction\", col=\"Gender\", col_wrap=2, data=df, kind=\"count\", height=3.0, aspect=2.0);  \n",
        "    g = sns.catplot(\"satisfaction\", col=\"Customer_Type\", col_wrap=2, data=df, kind=\"count\", height=3.0, aspect=2.0);\n"
      ],
      "id": "T42Dpaqlz-k8",
      "execution_count": 77,
      "outputs": [
        {
          "output_type": "stream",
          "name": "stderr",
          "text": [
            "/usr/local/lib/python3.7/dist-packages/seaborn/_decorators.py:43: FutureWarning:\n",
            "\n",
            "Pass the following variable as a keyword arg: x. From version 0.12, the only valid positional argument will be `data`, and passing other arguments without an explicit keyword will result in an error or misinterpretation.\n",
            "\n",
            "/usr/local/lib/python3.7/dist-packages/seaborn/_decorators.py:43: FutureWarning:\n",
            "\n",
            "Pass the following variable as a keyword arg: x. From version 0.12, the only valid positional argument will be `data`, and passing other arguments without an explicit keyword will result in an error or misinterpretation.\n",
            "\n"
          ]
        },
        {
          "output_type": "display_data",
          "data": {
            "image/png": "[encoded data removed]",
            "text/plain": [
              "<Figure size 864x216 with 2 Axes>"
            ]
          },
          "metadata": {}
        },
        {
          "output_type": "display_data",
          "data": {
            "image/png": "[encoded data removed]",
            "text/plain": [
              "<Figure size 864x216 with 2 Axes>"
            ]
          },
          "metadata": {}
        }
      ]
    },
    {
      "cell_type": "code",
      "metadata": {
        "colab": {
          "base_uri": "https://localhost:8080/",
          "height": 280
        },
        "id": "CxV9XozA2UCR",
        "outputId": "0c26c17d-da6b-4c26-9833-0da2e825d059"
      },
      "source": [
        "sns.countplot(x='Ease_of_Online_booking',hue=\"satisfaction\",data=df,color=\"darkorange\");"
      ],
      "id": "CxV9XozA2UCR",
      "execution_count": 79,
      "outputs": [
        {
          "output_type": "display_data",
          "data": {
            "image/png": "[encoded data removed]",
            "text/plain": [
              "<Figure size 432x288 with 1 Axes>"
            ]
          },
          "metadata": {
            "needs_background": "light"
          }
        }
      ]
    },
    {
      "cell_type": "code",
      "metadata": {
        "colab": {
          "base_uri": "https://localhost:8080/"
        },
        "id": "A-T6V1Df6oGr",
        "outputId": "e7d080a6-6c95-42a9-894e-78cab225bbf7"
      },
      "source": [
        "df.Age.min()"
      ],
      "id": "A-T6V1Df6oGr",
      "execution_count": 80,
      "outputs": [
        {
          "output_type": "execute_result",
          "data": {
            "text/plain": [
              "7"
            ]
          },
          "metadata": {},
          "execution_count": 80
        }
      ]
    },
    {
      "cell_type": "code",
      "metadata": {
        "colab": {
          "base_uri": "https://localhost:8080/"
        },
        "id": "bxAuNPMw5oeV",
        "outputId": "782082a0-23a7-4957-b6aa-a936522bc326"
      },
      "source": [
        "df.Age.max()"
      ],
      "id": "bxAuNPMw5oeV",
      "execution_count": 81,
      "outputs": [
        {
          "output_type": "execute_result",
          "data": {
            "text/plain": [
              "85"
            ]
          },
          "metadata": {},
          "execution_count": 81
        }
      ]
    },
    {
      "cell_type": "code",
      "metadata": {
        "colab": {
          "base_uri": "https://localhost:8080/",
          "height": 642
        },
        "id": "0mxwNS2pjHe1",
        "outputId": "a52c44f6-482a-4757-ba8f-d7bb6784bcc8"
      },
      "source": [
        "# corrlation \n",
        "df.corr() #as matrix "
      ],
      "id": "0mxwNS2pjHe1",
      "execution_count": 82,
      "outputs": [
        {
          "output_type": "execute_result",
          "data": {
            "text/html": [
              "<div>\n",
              "<style scoped>\n",
              "    .dataframe tbody tr th:only-of-type {\n",
              "        vertical-align: middle;\n",
              "    }\n",
              "\n",
              "    .dataframe tbody tr th {\n",
              "        vertical-align: top;\n",
              "    }\n",
              "\n",
              "    .dataframe thead th {\n",
              "        text-align: right;\n",
              "    }\n",
              "</style>\n",
              "<table border=\"1\" class=\"dataframe\">\n",
              "  <thead>\n",
              "    <tr style=\"text-align: right;\">\n",
              "      <th></th>\n",
              "      <th>Age</th>\n",
              "      <th>Flight_Distance</th>\n",
              "      <th>Inflight_wifi_service</th>\n",
              "      <th>Departure/Arrival_time_convenient</th>\n",
              "      <th>Ease_of_Online_booking</th>\n",
              "      <th>Gate_location</th>\n",
              "      <th>Food_and_drink</th>\n",
              "      <th>Online_boarding</th>\n",
              "      <th>Seat_comfort</th>\n",
              "      <th>Inflight_entertainment</th>\n",
              "      <th>On-board_service</th>\n",
              "      <th>Leg_room_service</th>\n",
              "      <th>Baggage_handling</th>\n",
              "      <th>Checkin_service</th>\n",
              "      <th>Inflight_service</th>\n",
              "      <th>Cleanliness</th>\n",
              "      <th>Departure_Delay_in_Minutes</th>\n",
              "      <th>Arrival_Delay_in_Minutes</th>\n",
              "    </tr>\n",
              "  </thead>\n",
              "  <tbody>\n",
              "    <tr>\n",
              "      <th>Age</th>\n",
              "      <td>1.000000</td>\n",
              "      <td>0.099838</td>\n",
              "      <td>0.017470</td>\n",
              "      <td>0.038038</td>\n",
              "      <td>0.024461</td>\n",
              "      <td>-0.001558</td>\n",
              "      <td>0.022920</td>\n",
              "      <td>0.208681</td>\n",
              "      <td>0.160302</td>\n",
              "      <td>0.076380</td>\n",
              "      <td>0.057123</td>\n",
              "      <td>0.040498</td>\n",
              "      <td>-0.047619</td>\n",
              "      <td>0.035003</td>\n",
              "      <td>-0.049899</td>\n",
              "      <td>0.053493</td>\n",
              "      <td>-0.010150</td>\n",
              "      <td>-0.012147</td>\n",
              "    </tr>\n",
              "    <tr>\n",
              "      <th>Flight_Distance</th>\n",
              "      <td>0.099838</td>\n",
              "      <td>1.000000</td>\n",
              "      <td>0.007050</td>\n",
              "      <td>-0.019908</td>\n",
              "      <td>0.065697</td>\n",
              "      <td>0.004732</td>\n",
              "      <td>0.056957</td>\n",
              "      <td>0.215191</td>\n",
              "      <td>0.157517</td>\n",
              "      <td>0.128645</td>\n",
              "      <td>0.109540</td>\n",
              "      <td>0.133839</td>\n",
              "      <td>0.063222</td>\n",
              "      <td>0.073224</td>\n",
              "      <td>0.057430</td>\n",
              "      <td>0.093121</td>\n",
              "      <td>0.001906</td>\n",
              "      <td>-0.002426</td>\n",
              "    </tr>\n",
              "    <tr>\n",
              "      <th>Inflight_wifi_service</th>\n",
              "      <td>0.017470</td>\n",
              "      <td>0.007050</td>\n",
              "      <td>1.000000</td>\n",
              "      <td>0.343758</td>\n",
              "      <td>0.715848</td>\n",
              "      <td>0.336127</td>\n",
              "      <td>0.134603</td>\n",
              "      <td>0.457002</td>\n",
              "      <td>0.122617</td>\n",
              "      <td>0.209513</td>\n",
              "      <td>0.121484</td>\n",
              "      <td>0.160485</td>\n",
              "      <td>0.121060</td>\n",
              "      <td>0.043178</td>\n",
              "      <td>0.110626</td>\n",
              "      <td>0.132652</td>\n",
              "      <td>-0.017451</td>\n",
              "      <td>-0.019095</td>\n",
              "    </tr>\n",
              "    <tr>\n",
              "      <th>Departure/Arrival_time_convenient</th>\n",
              "      <td>0.038038</td>\n",
              "      <td>-0.019908</td>\n",
              "      <td>0.343758</td>\n",
              "      <td>1.000000</td>\n",
              "      <td>0.437021</td>\n",
              "      <td>0.444601</td>\n",
              "      <td>0.005189</td>\n",
              "      <td>0.069990</td>\n",
              "      <td>0.011416</td>\n",
              "      <td>-0.004683</td>\n",
              "      <td>0.068604</td>\n",
              "      <td>0.012461</td>\n",
              "      <td>0.071901</td>\n",
              "      <td>0.093329</td>\n",
              "      <td>0.073227</td>\n",
              "      <td>0.014337</td>\n",
              "      <td>0.000791</td>\n",
              "      <td>-0.000864</td>\n",
              "    </tr>\n",
              "    <tr>\n",
              "      <th>Ease_of_Online_booking</th>\n",
              "      <td>0.024461</td>\n",
              "      <td>0.065697</td>\n",
              "      <td>0.715848</td>\n",
              "      <td>0.437021</td>\n",
              "      <td>1.000000</td>\n",
              "      <td>0.458746</td>\n",
              "      <td>0.031940</td>\n",
              "      <td>0.404093</td>\n",
              "      <td>0.030021</td>\n",
              "      <td>0.047185</td>\n",
              "      <td>0.038759</td>\n",
              "      <td>0.107431</td>\n",
              "      <td>0.038851</td>\n",
              "      <td>0.010957</td>\n",
              "      <td>0.035330</td>\n",
              "      <td>0.016192</td>\n",
              "      <td>-0.006292</td>\n",
              "      <td>-0.007984</td>\n",
              "    </tr>\n",
              "    <tr>\n",
              "      <th>Gate_location</th>\n",
              "      <td>-0.001558</td>\n",
              "      <td>0.004732</td>\n",
              "      <td>0.336127</td>\n",
              "      <td>0.444601</td>\n",
              "      <td>0.458746</td>\n",
              "      <td>1.000000</td>\n",
              "      <td>-0.001170</td>\n",
              "      <td>0.001451</td>\n",
              "      <td>0.003383</td>\n",
              "      <td>0.003564</td>\n",
              "      <td>-0.028532</td>\n",
              "      <td>-0.005868</td>\n",
              "      <td>0.002421</td>\n",
              "      <td>-0.035451</td>\n",
              "      <td>0.001742</td>\n",
              "      <td>-0.004015</td>\n",
              "      <td>0.005533</td>\n",
              "      <td>0.005143</td>\n",
              "    </tr>\n",
              "    <tr>\n",
              "      <th>Food_and_drink</th>\n",
              "      <td>0.022920</td>\n",
              "      <td>0.056957</td>\n",
              "      <td>0.134603</td>\n",
              "      <td>0.005189</td>\n",
              "      <td>0.031940</td>\n",
              "      <td>-0.001170</td>\n",
              "      <td>1.000000</td>\n",
              "      <td>0.234492</td>\n",
              "      <td>0.574561</td>\n",
              "      <td>0.622374</td>\n",
              "      <td>0.058999</td>\n",
              "      <td>0.032415</td>\n",
              "      <td>0.034811</td>\n",
              "      <td>0.087055</td>\n",
              "      <td>0.034077</td>\n",
              "      <td>0.657648</td>\n",
              "      <td>-0.029983</td>\n",
              "      <td>-0.032524</td>\n",
              "    </tr>\n",
              "    <tr>\n",
              "      <th>Online_boarding</th>\n",
              "      <td>0.208681</td>\n",
              "      <td>0.215191</td>\n",
              "      <td>0.457002</td>\n",
              "      <td>0.069990</td>\n",
              "      <td>0.404093</td>\n",
              "      <td>0.001451</td>\n",
              "      <td>0.234492</td>\n",
              "      <td>1.000000</td>\n",
              "      <td>0.420067</td>\n",
              "      <td>0.285194</td>\n",
              "      <td>0.155345</td>\n",
              "      <td>0.123780</td>\n",
              "      <td>0.083299</td>\n",
              "      <td>0.204208</td>\n",
              "      <td>0.074390</td>\n",
              "      <td>0.331498</td>\n",
              "      <td>-0.018515</td>\n",
              "      <td>-0.021949</td>\n",
              "    </tr>\n",
              "    <tr>\n",
              "      <th>Seat_comfort</th>\n",
              "      <td>0.160302</td>\n",
              "      <td>0.157517</td>\n",
              "      <td>0.122617</td>\n",
              "      <td>0.011416</td>\n",
              "      <td>0.030021</td>\n",
              "      <td>0.003383</td>\n",
              "      <td>0.574561</td>\n",
              "      <td>0.420067</td>\n",
              "      <td>1.000000</td>\n",
              "      <td>0.610614</td>\n",
              "      <td>0.132030</td>\n",
              "      <td>0.105447</td>\n",
              "      <td>0.074553</td>\n",
              "      <td>0.191545</td>\n",
              "      <td>0.069193</td>\n",
              "      <td>0.678478</td>\n",
              "      <td>-0.027323</td>\n",
              "      <td>-0.029900</td>\n",
              "    </tr>\n",
              "    <tr>\n",
              "      <th>Inflight_entertainment</th>\n",
              "      <td>0.076380</td>\n",
              "      <td>0.128645</td>\n",
              "      <td>0.209513</td>\n",
              "      <td>-0.004683</td>\n",
              "      <td>0.047185</td>\n",
              "      <td>0.003564</td>\n",
              "      <td>0.622374</td>\n",
              "      <td>0.285194</td>\n",
              "      <td>0.610614</td>\n",
              "      <td>1.000000</td>\n",
              "      <td>0.420352</td>\n",
              "      <td>0.299850</td>\n",
              "      <td>0.378361</td>\n",
              "      <td>0.120812</td>\n",
              "      <td>0.405247</td>\n",
              "      <td>0.691735</td>\n",
              "      <td>-0.027691</td>\n",
              "      <td>-0.030703</td>\n",
              "    </tr>\n",
              "    <tr>\n",
              "      <th>On-board_service</th>\n",
              "      <td>0.057123</td>\n",
              "      <td>0.109540</td>\n",
              "      <td>0.121484</td>\n",
              "      <td>0.068604</td>\n",
              "      <td>0.038759</td>\n",
              "      <td>-0.028532</td>\n",
              "      <td>0.058999</td>\n",
              "      <td>0.155345</td>\n",
              "      <td>0.132030</td>\n",
              "      <td>0.420352</td>\n",
              "      <td>1.000000</td>\n",
              "      <td>0.355657</td>\n",
              "      <td>0.519252</td>\n",
              "      <td>0.243852</td>\n",
              "      <td>0.550725</td>\n",
              "      <td>0.123236</td>\n",
              "      <td>-0.031474</td>\n",
              "      <td>-0.035227</td>\n",
              "    </tr>\n",
              "    <tr>\n",
              "      <th>Leg_room_service</th>\n",
              "      <td>0.040498</td>\n",
              "      <td>0.133839</td>\n",
              "      <td>0.160485</td>\n",
              "      <td>0.012461</td>\n",
              "      <td>0.107431</td>\n",
              "      <td>-0.005868</td>\n",
              "      <td>0.032415</td>\n",
              "      <td>0.123780</td>\n",
              "      <td>0.105447</td>\n",
              "      <td>0.299850</td>\n",
              "      <td>0.355657</td>\n",
              "      <td>1.000000</td>\n",
              "      <td>0.369674</td>\n",
              "      <td>0.153079</td>\n",
              "      <td>0.368925</td>\n",
              "      <td>0.096401</td>\n",
              "      <td>0.014336</td>\n",
              "      <td>0.011843</td>\n",
              "    </tr>\n",
              "    <tr>\n",
              "      <th>Baggage_handling</th>\n",
              "      <td>-0.047619</td>\n",
              "      <td>0.063222</td>\n",
              "      <td>0.121060</td>\n",
              "      <td>0.071901</td>\n",
              "      <td>0.038851</td>\n",
              "      <td>0.002421</td>\n",
              "      <td>0.034811</td>\n",
              "      <td>0.083299</td>\n",
              "      <td>0.074553</td>\n",
              "      <td>0.378361</td>\n",
              "      <td>0.519252</td>\n",
              "      <td>0.369674</td>\n",
              "      <td>1.000000</td>\n",
              "      <td>0.233326</td>\n",
              "      <td>0.628944</td>\n",
              "      <td>0.095783</td>\n",
              "      <td>-0.005683</td>\n",
              "      <td>-0.008542</td>\n",
              "    </tr>\n",
              "    <tr>\n",
              "      <th>Checkin_service</th>\n",
              "      <td>0.035003</td>\n",
              "      <td>0.073224</td>\n",
              "      <td>0.043178</td>\n",
              "      <td>0.093329</td>\n",
              "      <td>0.010957</td>\n",
              "      <td>-0.035451</td>\n",
              "      <td>0.087055</td>\n",
              "      <td>0.204208</td>\n",
              "      <td>0.191545</td>\n",
              "      <td>0.120812</td>\n",
              "      <td>0.243852</td>\n",
              "      <td>0.153079</td>\n",
              "      <td>0.233326</td>\n",
              "      <td>1.000000</td>\n",
              "      <td>0.237256</td>\n",
              "      <td>0.179431</td>\n",
              "      <td>-0.018065</td>\n",
              "      <td>-0.020369</td>\n",
              "    </tr>\n",
              "    <tr>\n",
              "      <th>Inflight_service</th>\n",
              "      <td>-0.049899</td>\n",
              "      <td>0.057430</td>\n",
              "      <td>0.110626</td>\n",
              "      <td>0.073227</td>\n",
              "      <td>0.035330</td>\n",
              "      <td>0.001742</td>\n",
              "      <td>0.034077</td>\n",
              "      <td>0.074390</td>\n",
              "      <td>0.069193</td>\n",
              "      <td>0.405247</td>\n",
              "      <td>0.550725</td>\n",
              "      <td>0.368925</td>\n",
              "      <td>0.628944</td>\n",
              "      <td>0.237256</td>\n",
              "      <td>1.000000</td>\n",
              "      <td>0.088891</td>\n",
              "      <td>-0.054452</td>\n",
              "      <td>-0.059196</td>\n",
              "    </tr>\n",
              "    <tr>\n",
              "      <th>Cleanliness</th>\n",
              "      <td>0.053493</td>\n",
              "      <td>0.093121</td>\n",
              "      <td>0.132652</td>\n",
              "      <td>0.014337</td>\n",
              "      <td>0.016192</td>\n",
              "      <td>-0.004015</td>\n",
              "      <td>0.657648</td>\n",
              "      <td>0.331498</td>\n",
              "      <td>0.678478</td>\n",
              "      <td>0.691735</td>\n",
              "      <td>0.123236</td>\n",
              "      <td>0.096401</td>\n",
              "      <td>0.095783</td>\n",
              "      <td>0.179431</td>\n",
              "      <td>0.088891</td>\n",
              "      <td>1.000000</td>\n",
              "      <td>-0.013835</td>\n",
              "      <td>-0.015774</td>\n",
              "    </tr>\n",
              "    <tr>\n",
              "      <th>Departure_Delay_in_Minutes</th>\n",
              "      <td>-0.010150</td>\n",
              "      <td>0.001906</td>\n",
              "      <td>-0.017451</td>\n",
              "      <td>0.000791</td>\n",
              "      <td>-0.006292</td>\n",
              "      <td>0.005533</td>\n",
              "      <td>-0.029983</td>\n",
              "      <td>-0.018515</td>\n",
              "      <td>-0.027323</td>\n",
              "      <td>-0.027691</td>\n",
              "      <td>-0.031474</td>\n",
              "      <td>0.014336</td>\n",
              "      <td>-0.005683</td>\n",
              "      <td>-0.018065</td>\n",
              "      <td>-0.054452</td>\n",
              "      <td>-0.013835</td>\n",
              "      <td>1.000000</td>\n",
              "      <td>0.965481</td>\n",
              "    </tr>\n",
              "    <tr>\n",
              "      <th>Arrival_Delay_in_Minutes</th>\n",
              "      <td>-0.012147</td>\n",
              "      <td>-0.002426</td>\n",
              "      <td>-0.019095</td>\n",
              "      <td>-0.000864</td>\n",
              "      <td>-0.007984</td>\n",
              "      <td>0.005143</td>\n",
              "      <td>-0.032524</td>\n",
              "      <td>-0.021949</td>\n",
              "      <td>-0.029900</td>\n",
              "      <td>-0.030703</td>\n",
              "      <td>-0.035227</td>\n",
              "      <td>0.011843</td>\n",
              "      <td>-0.008542</td>\n",
              "      <td>-0.020369</td>\n",
              "      <td>-0.059196</td>\n",
              "      <td>-0.015774</td>\n",
              "      <td>0.965481</td>\n",
              "      <td>1.000000</td>\n",
              "    </tr>\n",
              "  </tbody>\n",
              "</table>\n",
              "</div>"
            ],
            "text/plain": [
              "                                        Age  ...  Arrival_Delay_in_Minutes\n",
              "Age                                1.000000  ...                 -0.012147\n",
              "Flight_Distance                    0.099838  ...                 -0.002426\n",
              "Inflight_wifi_service              0.017470  ...                 -0.019095\n",
              "Departure/Arrival_time_convenient  0.038038  ...                 -0.000864\n",
              "Ease_of_Online_booking             0.024461  ...                 -0.007984\n",
              "Gate_location                     -0.001558  ...                  0.005143\n",
              "Food_and_drink                     0.022920  ...                 -0.032524\n",
              "Online_boarding                    0.208681  ...                 -0.021949\n",
              "Seat_comfort                       0.160302  ...                 -0.029900\n",
              "Inflight_entertainment             0.076380  ...                 -0.030703\n",
              "On-board_service                   0.057123  ...                 -0.035227\n",
              "Leg_room_service                   0.040498  ...                  0.011843\n",
              "Baggage_handling                  -0.047619  ...                 -0.008542\n",
              "Checkin_service                    0.035003  ...                 -0.020369\n",
              "Inflight_service                  -0.049899  ...                 -0.059196\n",
              "Cleanliness                        0.053493  ...                 -0.015774\n",
              "Departure_Delay_in_Minutes        -0.010150  ...                  0.965481\n",
              "Arrival_Delay_in_Minutes          -0.012147  ...                  1.000000\n",
              "\n",
              "[18 rows x 18 columns]"
            ]
          },
          "metadata": {},
          "execution_count": 82
        }
      ]
    },
    {
      "cell_type": "code",
      "metadata": {
        "colab": {
          "base_uri": "https://localhost:8080/",
          "height": 978
        },
        "id": "9C4KCe9I9fpp",
        "outputId": "b1d2c598-d0d0-4eb6-b829-41e7703669b6"
      },
      "source": [
        "#corrlation  \n",
        "plt.figure(figsize = (14,14)) \n",
        "sns.heatmap(df.corr(),linewidths=0.6, annot = True, cmap = \"Oranges\"); # as heatmap \n"
      ],
      "id": "9C4KCe9I9fpp",
      "execution_count": 83,
      "outputs": [
        {
          "output_type": "display_data",
          "data": {
            "image/png": "[encoded data removed]",
            "text/plain": [
              "<Figure size 1008x1008 with 2 Axes>"
            ]
          },
          "metadata": {
            "needs_background": "light"
          }
        }
      ]
    },
    {
      "cell_type": "code",
      "metadata": {
        "id": "UIc_zVPIDbNg",
        "colab": {
          "base_uri": "https://localhost:8080/"
        },
        "outputId": "e450670a-d173-42c2-e27f-ad98e15a3d13"
      },
      "source": [
        "df.Gender.value_counts()"
      ],
      "id": "UIc_zVPIDbNg",
      "execution_count": 84,
      "outputs": [
        {
          "output_type": "execute_result",
          "data": {
            "text/plain": [
              "Female    52576\n",
              "Male      51018\n",
              "Name: Gender, dtype: int64"
            ]
          },
          "metadata": {},
          "execution_count": 84
        }
      ]
    },
    {
      "cell_type": "code",
      "metadata": {
        "id": "YskRmh1HfUtS",
        "colab": {
          "base_uri": "https://localhost:8080/"
        },
        "outputId": "8b70ff6f-6421-41ee-9ac1-1ea02cda0860"
      },
      "source": [
        "df.satisfaction.value_counts()"
      ],
      "id": "YskRmh1HfUtS",
      "execution_count": 85,
      "outputs": [
        {
          "output_type": "execute_result",
          "data": {
            "text/plain": [
              "neutral or dissatisfied    58697\n",
              "satisfied                  44897\n",
              "Name: satisfaction, dtype: int64"
            ]
          },
          "metadata": {},
          "execution_count": 85
        }
      ]
    },
    {
      "cell_type": "code",
      "metadata": {
        "colab": {
          "base_uri": "https://localhost:8080/"
        },
        "id": "08a161cd",
        "outputId": "ba826233-19da-438b-dde8-d5baf339bae8"
      },
      "source": [
        "#Q2: Are customers satisfied with the Wi-Fi service of the airline on which their flights are booked ? \n",
        "df['Inflight_wifi_service'].value_counts() "
      ],
      "id": "08a161cd",
      "execution_count": 86,
      "outputs": [
        {
          "output_type": "execute_result",
          "data": {
            "text/plain": [
              "3    25789\n",
              "2    25755\n",
              "4    19737\n",
              "1    17781\n",
              "5    11436\n",
              "0     3096\n",
              "Name: Inflight_wifi_service, dtype: int64"
            ]
          },
          "metadata": {},
          "execution_count": 86
        }
      ]
    },
    {
      "cell_type": "code",
      "metadata": {
        "id": "f2fe09e9",
        "colab": {
          "base_uri": "https://localhost:8080/",
          "height": 360
        },
        "outputId": "015cce75-0ba7-4f29-99a6-c0cbd1d9eb18"
      },
      "source": [
        "plt.figure(figsize=[9,5])\n",
        "plt.grid()\n",
        "plt.xlabel('Satisfaction',fontsize = 15)\n",
        "plt.ylabel('number of people',fontsize = 15);\n",
        "plt.title('Satisfaction with the wi-fi service',fontsize = 20, weight = 'bold');\n",
        "plt.hist(df['Inflight_wifi_service'], color= 'darkblue');"
      ],
      "id": "f2fe09e9",
      "execution_count": 87,
      "outputs": [
        {
          "output_type": "display_data",
          "data": {
            "image/png": "[encoded data removed]",
            "text/plain": [
              "<Figure size 648x360 with 1 Axes>"
            ]
          },
          "metadata": {
            "needs_background": "light"
          }
        }
      ]
    },
    {
      "cell_type": "code",
      "metadata": {
        "id": "583993d8",
        "colab": {
          "base_uri": "https://localhost:8080/"
        },
        "outputId": "cab81c72-3d12-4cf1-fb97-600f94a5b87c"
      },
      "source": [
        "#Q3:Are the most passengers find booking online easy or complicated?\n",
        "df['Ease_of_Online_booking'].value_counts()"
      ],
      "id": "583993d8",
      "execution_count": 88,
      "outputs": [
        {
          "output_type": "execute_result",
          "data": {
            "text/plain": [
              "3    24370\n",
              "2    23962\n",
              "4    19508\n",
              "1    17466\n",
              "5    13815\n",
              "0     4473\n",
              "Name: Ease_of_Online_booking, dtype: int64"
            ]
          },
          "metadata": {},
          "execution_count": 88
        }
      ]
    },
    {
      "cell_type": "code",
      "metadata": {
        "id": "4736650c",
        "colab": {
          "base_uri": "https://localhost:8080/",
          "height": 360
        },
        "outputId": "2a4c5fd7-eca7-4a1d-c5a8-6112b56dc1ea"
      },
      "source": [
        "plt.figure(figsize=[9,5])\n",
        "plt.grid()\n",
        "plt.xlabel('Satisfaction',fontsize = 15)\n",
        "plt.ylabel('number of people',fontsize = 15);\n",
        "plt.title('Ease of Online booking',fontsize = 20, weight = 'bold');\n",
        "plt.hist(df['Ease_of_Online_booking'], color='#E66C2C');"
      ],
      "id": "4736650c",
      "execution_count": 89,
      "outputs": [
        {
          "output_type": "display_data",
          "data": {
            "image/png": "[encoded data removed]",
            "text/plain": [
              "<Figure size 648x360 with 1 Axes>"
            ]
          },
          "metadata": {
            "needs_background": "light"
          }
        }
      ]
    },
    {
      "cell_type": "code",
      "metadata": {
        "id": "0f3b1dc0",
        "colab": {
          "base_uri": "https://localhost:8080/"
        },
        "outputId": "25b2dec1-f226-4f6d-9601-fc8a3a42710d"
      },
      "source": [
        "# How many males and females were loyal customers ?\n",
        "df['Customer_Type'].unique()"
      ],
      "id": "0f3b1dc0",
      "execution_count": 90,
      "outputs": [
        {
          "output_type": "execute_result",
          "data": {
            "text/plain": [
              "array(['Loyal Customer', 'disloyal Customer'], dtype=object)"
            ]
          },
          "metadata": {},
          "execution_count": 90
        }
      ]
    },
    {
      "cell_type": "code",
      "metadata": {
        "id": "2d5723cf",
        "colab": {
          "base_uri": "https://localhost:8080/"
        },
        "outputId": "d8fe3bec-48f3-4271-ccc2-60a0ec08cab9"
      },
      "source": [
        "df.groupby('Customer_Type').Gender.value_counts()"
      ],
      "id": "2d5723cf",
      "execution_count": 91,
      "outputs": [
        {
          "output_type": "execute_result",
          "data": {
            "text/plain": [
              "Customer_Type      Gender\n",
              "Loyal Customer     Female    42336\n",
              "                   Male      42326\n",
              "disloyal Customer  Female    10240\n",
              "                   Male       8692\n",
              "Name: Gender, dtype: int64"
            ]
          },
          "metadata": {},
          "execution_count": 91
        }
      ]
    },
    {
      "cell_type": "code",
      "metadata": {
        "id": "9404e6b8"
      },
      "source": [
        "#\n",
        "df1= df[(df.Customer_Type=='Loyal Customer')]\n",
        "df2= df[(df.Customer_Type=='disloyal Customer')]"
      ],
      "id": "9404e6b8",
      "execution_count": 92,
      "outputs": []
    },
    {
      "cell_type": "code",
      "metadata": {
        "id": "bb5be556",
        "colab": {
          "base_uri": "https://localhost:8080/",
          "height": 556
        },
        "outputId": "06097d58-725b-45a8-889d-932a462187fd"
      },
      "source": [
        "df1"
      ],
      "id": "bb5be556",
      "execution_count": 93,
      "outputs": [
        {
          "output_type": "execute_result",
          "data": {
            "text/html": [
              "<div>\n",
              "<style scoped>\n",
              "    .dataframe tbody tr th:only-of-type {\n",
              "        vertical-align: middle;\n",
              "    }\n",
              "\n",
              "    .dataframe tbody tr th {\n",
              "        vertical-align: top;\n",
              "    }\n",
              "\n",
              "    .dataframe thead th {\n",
              "        text-align: right;\n",
              "    }\n",
              "</style>\n",
              "<table border=\"1\" class=\"dataframe\">\n",
              "  <thead>\n",
              "    <tr style=\"text-align: right;\">\n",
              "      <th></th>\n",
              "      <th>Gender</th>\n",
              "      <th>Customer_Type</th>\n",
              "      <th>Age</th>\n",
              "      <th>Type_of_Travel</th>\n",
              "      <th>Class</th>\n",
              "      <th>Flight_Distance</th>\n",
              "      <th>Inflight_wifi_service</th>\n",
              "      <th>Departure/Arrival_time_convenient</th>\n",
              "      <th>Ease_of_Online_booking</th>\n",
              "      <th>Gate_location</th>\n",
              "      <th>Food_and_drink</th>\n",
              "      <th>Online_boarding</th>\n",
              "      <th>Seat_comfort</th>\n",
              "      <th>Inflight_entertainment</th>\n",
              "      <th>On-board_service</th>\n",
              "      <th>Leg_room_service</th>\n",
              "      <th>Baggage_handling</th>\n",
              "      <th>Checkin_service</th>\n",
              "      <th>Inflight_service</th>\n",
              "      <th>Cleanliness</th>\n",
              "      <th>Departure_Delay_in_Minutes</th>\n",
              "      <th>Arrival_Delay_in_Minutes</th>\n",
              "      <th>satisfaction</th>\n",
              "    </tr>\n",
              "  </thead>\n",
              "  <tbody>\n",
              "    <tr>\n",
              "      <th>0</th>\n",
              "      <td>Male</td>\n",
              "      <td>Loyal Customer</td>\n",
              "      <td>13</td>\n",
              "      <td>Personal Travel</td>\n",
              "      <td>Eco Plus</td>\n",
              "      <td>460</td>\n",
              "      <td>3</td>\n",
              "      <td>4</td>\n",
              "      <td>3</td>\n",
              "      <td>1</td>\n",
              "      <td>5</td>\n",
              "      <td>3</td>\n",
              "      <td>5</td>\n",
              "      <td>5</td>\n",
              "      <td>4</td>\n",
              "      <td>3</td>\n",
              "      <td>4</td>\n",
              "      <td>4</td>\n",
              "      <td>5</td>\n",
              "      <td>5</td>\n",
              "      <td>25</td>\n",
              "      <td>18.0</td>\n",
              "      <td>neutral or dissatisfied</td>\n",
              "    </tr>\n",
              "    <tr>\n",
              "      <th>2</th>\n",
              "      <td>Female</td>\n",
              "      <td>Loyal Customer</td>\n",
              "      <td>26</td>\n",
              "      <td>Business travel</td>\n",
              "      <td>Business</td>\n",
              "      <td>1142</td>\n",
              "      <td>2</td>\n",
              "      <td>2</td>\n",
              "      <td>2</td>\n",
              "      <td>2</td>\n",
              "      <td>5</td>\n",
              "      <td>5</td>\n",
              "      <td>5</td>\n",
              "      <td>5</td>\n",
              "      <td>4</td>\n",
              "      <td>3</td>\n",
              "      <td>4</td>\n",
              "      <td>4</td>\n",
              "      <td>4</td>\n",
              "      <td>5</td>\n",
              "      <td>0</td>\n",
              "      <td>0.0</td>\n",
              "      <td>satisfied</td>\n",
              "    </tr>\n",
              "    <tr>\n",
              "      <th>3</th>\n",
              "      <td>Female</td>\n",
              "      <td>Loyal Customer</td>\n",
              "      <td>25</td>\n",
              "      <td>Business travel</td>\n",
              "      <td>Business</td>\n",
              "      <td>562</td>\n",
              "      <td>2</td>\n",
              "      <td>5</td>\n",
              "      <td>5</td>\n",
              "      <td>5</td>\n",
              "      <td>2</td>\n",
              "      <td>2</td>\n",
              "      <td>2</td>\n",
              "      <td>2</td>\n",
              "      <td>2</td>\n",
              "      <td>5</td>\n",
              "      <td>3</td>\n",
              "      <td>1</td>\n",
              "      <td>4</td>\n",
              "      <td>2</td>\n",
              "      <td>11</td>\n",
              "      <td>9.0</td>\n",
              "      <td>neutral or dissatisfied</td>\n",
              "    </tr>\n",
              "    <tr>\n",
              "      <th>4</th>\n",
              "      <td>Male</td>\n",
              "      <td>Loyal Customer</td>\n",
              "      <td>61</td>\n",
              "      <td>Business travel</td>\n",
              "      <td>Business</td>\n",
              "      <td>214</td>\n",
              "      <td>3</td>\n",
              "      <td>3</td>\n",
              "      <td>3</td>\n",
              "      <td>3</td>\n",
              "      <td>4</td>\n",
              "      <td>5</td>\n",
              "      <td>5</td>\n",
              "      <td>3</td>\n",
              "      <td>3</td>\n",
              "      <td>4</td>\n",
              "      <td>4</td>\n",
              "      <td>3</td>\n",
              "      <td>3</td>\n",
              "      <td>3</td>\n",
              "      <td>0</td>\n",
              "      <td>0.0</td>\n",
              "      <td>satisfied</td>\n",
              "    </tr>\n",
              "    <tr>\n",
              "      <th>5</th>\n",
              "      <td>Female</td>\n",
              "      <td>Loyal Customer</td>\n",
              "      <td>26</td>\n",
              "      <td>Personal Travel</td>\n",
              "      <td>Eco</td>\n",
              "      <td>1180</td>\n",
              "      <td>3</td>\n",
              "      <td>4</td>\n",
              "      <td>2</td>\n",
              "      <td>1</td>\n",
              "      <td>1</td>\n",
              "      <td>2</td>\n",
              "      <td>1</td>\n",
              "      <td>1</td>\n",
              "      <td>3</td>\n",
              "      <td>4</td>\n",
              "      <td>4</td>\n",
              "      <td>4</td>\n",
              "      <td>4</td>\n",
              "      <td>1</td>\n",
              "      <td>0</td>\n",
              "      <td>0.0</td>\n",
              "      <td>neutral or dissatisfied</td>\n",
              "    </tr>\n",
              "    <tr>\n",
              "      <th>...</th>\n",
              "      <td>...</td>\n",
              "      <td>...</td>\n",
              "      <td>...</td>\n",
              "      <td>...</td>\n",
              "      <td>...</td>\n",
              "      <td>...</td>\n",
              "      <td>...</td>\n",
              "      <td>...</td>\n",
              "      <td>...</td>\n",
              "      <td>...</td>\n",
              "      <td>...</td>\n",
              "      <td>...</td>\n",
              "      <td>...</td>\n",
              "      <td>...</td>\n",
              "      <td>...</td>\n",
              "      <td>...</td>\n",
              "      <td>...</td>\n",
              "      <td>...</td>\n",
              "      <td>...</td>\n",
              "      <td>...</td>\n",
              "      <td>...</td>\n",
              "      <td>...</td>\n",
              "      <td>...</td>\n",
              "    </tr>\n",
              "    <tr>\n",
              "      <th>103896</th>\n",
              "      <td>Male</td>\n",
              "      <td>Loyal Customer</td>\n",
              "      <td>57</td>\n",
              "      <td>Business travel</td>\n",
              "      <td>Eco</td>\n",
              "      <td>867</td>\n",
              "      <td>4</td>\n",
              "      <td>5</td>\n",
              "      <td>5</td>\n",
              "      <td>5</td>\n",
              "      <td>4</td>\n",
              "      <td>4</td>\n",
              "      <td>4</td>\n",
              "      <td>4</td>\n",
              "      <td>3</td>\n",
              "      <td>4</td>\n",
              "      <td>3</td>\n",
              "      <td>1</td>\n",
              "      <td>3</td>\n",
              "      <td>4</td>\n",
              "      <td>0</td>\n",
              "      <td>0.0</td>\n",
              "      <td>neutral or dissatisfied</td>\n",
              "    </tr>\n",
              "    <tr>\n",
              "      <th>103897</th>\n",
              "      <td>Female</td>\n",
              "      <td>Loyal Customer</td>\n",
              "      <td>60</td>\n",
              "      <td>Business travel</td>\n",
              "      <td>Business</td>\n",
              "      <td>1599</td>\n",
              "      <td>5</td>\n",
              "      <td>5</td>\n",
              "      <td>5</td>\n",
              "      <td>5</td>\n",
              "      <td>5</td>\n",
              "      <td>5</td>\n",
              "      <td>4</td>\n",
              "      <td>4</td>\n",
              "      <td>4</td>\n",
              "      <td>4</td>\n",
              "      <td>4</td>\n",
              "      <td>4</td>\n",
              "      <td>4</td>\n",
              "      <td>4</td>\n",
              "      <td>9</td>\n",
              "      <td>7.0</td>\n",
              "      <td>satisfied</td>\n",
              "    </tr>\n",
              "    <tr>\n",
              "      <th>103898</th>\n",
              "      <td>Male</td>\n",
              "      <td>Loyal Customer</td>\n",
              "      <td>50</td>\n",
              "      <td>Personal Travel</td>\n",
              "      <td>Eco</td>\n",
              "      <td>1620</td>\n",
              "      <td>3</td>\n",
              "      <td>1</td>\n",
              "      <td>3</td>\n",
              "      <td>4</td>\n",
              "      <td>2</td>\n",
              "      <td>3</td>\n",
              "      <td>2</td>\n",
              "      <td>2</td>\n",
              "      <td>4</td>\n",
              "      <td>3</td>\n",
              "      <td>4</td>\n",
              "      <td>2</td>\n",
              "      <td>4</td>\n",
              "      <td>2</td>\n",
              "      <td>0</td>\n",
              "      <td>0.0</td>\n",
              "      <td>neutral or dissatisfied</td>\n",
              "    </tr>\n",
              "    <tr>\n",
              "      <th>103900</th>\n",
              "      <td>Male</td>\n",
              "      <td>Loyal Customer</td>\n",
              "      <td>49</td>\n",
              "      <td>Business travel</td>\n",
              "      <td>Business</td>\n",
              "      <td>2347</td>\n",
              "      <td>4</td>\n",
              "      <td>4</td>\n",
              "      <td>4</td>\n",
              "      <td>4</td>\n",
              "      <td>2</td>\n",
              "      <td>4</td>\n",
              "      <td>5</td>\n",
              "      <td>5</td>\n",
              "      <td>5</td>\n",
              "      <td>5</td>\n",
              "      <td>5</td>\n",
              "      <td>5</td>\n",
              "      <td>5</td>\n",
              "      <td>4</td>\n",
              "      <td>0</td>\n",
              "      <td>0.0</td>\n",
              "      <td>satisfied</td>\n",
              "    </tr>\n",
              "    <tr>\n",
              "      <th>103903</th>\n",
              "      <td>Male</td>\n",
              "      <td>Loyal Customer</td>\n",
              "      <td>27</td>\n",
              "      <td>Business travel</td>\n",
              "      <td>Business</td>\n",
              "      <td>1723</td>\n",
              "      <td>1</td>\n",
              "      <td>3</td>\n",
              "      <td>3</td>\n",
              "      <td>3</td>\n",
              "      <td>1</td>\n",
              "      <td>1</td>\n",
              "      <td>1</td>\n",
              "      <td>1</td>\n",
              "      <td>1</td>\n",
              "      <td>1</td>\n",
              "      <td>4</td>\n",
              "      <td>4</td>\n",
              "      <td>3</td>\n",
              "      <td>1</td>\n",
              "      <td>0</td>\n",
              "      <td>0.0</td>\n",
              "      <td>neutral or dissatisfied</td>\n",
              "    </tr>\n",
              "  </tbody>\n",
              "</table>\n",
              "<p>84662 rows × 23 columns</p>\n",
              "</div>"
            ],
            "text/plain": [
              "        Gender  ...             satisfaction\n",
              "0         Male  ...  neutral or dissatisfied\n",
              "2       Female  ...                satisfied\n",
              "3       Female  ...  neutral or dissatisfied\n",
              "4         Male  ...                satisfied\n",
              "5       Female  ...  neutral or dissatisfied\n",
              "...        ...  ...                      ...\n",
              "103896    Male  ...  neutral or dissatisfied\n",
              "103897  Female  ...                satisfied\n",
              "103898    Male  ...  neutral or dissatisfied\n",
              "103900    Male  ...                satisfied\n",
              "103903    Male  ...  neutral or dissatisfied\n",
              "\n",
              "[84662 rows x 23 columns]"
            ]
          },
          "metadata": {},
          "execution_count": 93
        }
      ]
    },
    {
      "cell_type": "code",
      "metadata": {
        "id": "1bd7eb30",
        "colab": {
          "base_uri": "https://localhost:8080/",
          "height": 624
        },
        "outputId": "9c78eab4-48c0-4ab2-9845-e70e291844bf"
      },
      "source": [
        "df2"
      ],
      "id": "1bd7eb30",
      "execution_count": 94,
      "outputs": [
        {
          "output_type": "execute_result",
          "data": {
            "text/html": [
              "<div>\n",
              "<style scoped>\n",
              "    .dataframe tbody tr th:only-of-type {\n",
              "        vertical-align: middle;\n",
              "    }\n",
              "\n",
              "    .dataframe tbody tr th {\n",
              "        vertical-align: top;\n",
              "    }\n",
              "\n",
              "    .dataframe thead th {\n",
              "        text-align: right;\n",
              "    }\n",
              "</style>\n",
              "<table border=\"1\" class=\"dataframe\">\n",
              "  <thead>\n",
              "    <tr style=\"text-align: right;\">\n",
              "      <th></th>\n",
              "      <th>Gender</th>\n",
              "      <th>Customer_Type</th>\n",
              "      <th>Age</th>\n",
              "      <th>Type_of_Travel</th>\n",
              "      <th>Class</th>\n",
              "      <th>Flight_Distance</th>\n",
              "      <th>Inflight_wifi_service</th>\n",
              "      <th>Departure/Arrival_time_convenient</th>\n",
              "      <th>Ease_of_Online_booking</th>\n",
              "      <th>Gate_location</th>\n",
              "      <th>Food_and_drink</th>\n",
              "      <th>Online_boarding</th>\n",
              "      <th>Seat_comfort</th>\n",
              "      <th>Inflight_entertainment</th>\n",
              "      <th>On-board_service</th>\n",
              "      <th>Leg_room_service</th>\n",
              "      <th>Baggage_handling</th>\n",
              "      <th>Checkin_service</th>\n",
              "      <th>Inflight_service</th>\n",
              "      <th>Cleanliness</th>\n",
              "      <th>Departure_Delay_in_Minutes</th>\n",
              "      <th>Arrival_Delay_in_Minutes</th>\n",
              "      <th>satisfaction</th>\n",
              "    </tr>\n",
              "  </thead>\n",
              "  <tbody>\n",
              "    <tr>\n",
              "      <th>1</th>\n",
              "      <td>Male</td>\n",
              "      <td>disloyal Customer</td>\n",
              "      <td>25</td>\n",
              "      <td>Business travel</td>\n",
              "      <td>Business</td>\n",
              "      <td>235</td>\n",
              "      <td>3</td>\n",
              "      <td>2</td>\n",
              "      <td>3</td>\n",
              "      <td>3</td>\n",
              "      <td>1</td>\n",
              "      <td>3</td>\n",
              "      <td>1</td>\n",
              "      <td>1</td>\n",
              "      <td>1</td>\n",
              "      <td>5</td>\n",
              "      <td>3</td>\n",
              "      <td>1</td>\n",
              "      <td>4</td>\n",
              "      <td>1</td>\n",
              "      <td>1</td>\n",
              "      <td>6.0</td>\n",
              "      <td>neutral or dissatisfied</td>\n",
              "    </tr>\n",
              "    <tr>\n",
              "      <th>9</th>\n",
              "      <td>Male</td>\n",
              "      <td>disloyal Customer</td>\n",
              "      <td>20</td>\n",
              "      <td>Business travel</td>\n",
              "      <td>Eco</td>\n",
              "      <td>1061</td>\n",
              "      <td>3</td>\n",
              "      <td>3</td>\n",
              "      <td>3</td>\n",
              "      <td>4</td>\n",
              "      <td>2</td>\n",
              "      <td>3</td>\n",
              "      <td>3</td>\n",
              "      <td>2</td>\n",
              "      <td>2</td>\n",
              "      <td>3</td>\n",
              "      <td>4</td>\n",
              "      <td>4</td>\n",
              "      <td>3</td>\n",
              "      <td>2</td>\n",
              "      <td>0</td>\n",
              "      <td>0.0</td>\n",
              "      <td>neutral or dissatisfied</td>\n",
              "    </tr>\n",
              "    <tr>\n",
              "      <th>10</th>\n",
              "      <td>Female</td>\n",
              "      <td>disloyal Customer</td>\n",
              "      <td>24</td>\n",
              "      <td>Business travel</td>\n",
              "      <td>Eco</td>\n",
              "      <td>1182</td>\n",
              "      <td>4</td>\n",
              "      <td>5</td>\n",
              "      <td>5</td>\n",
              "      <td>4</td>\n",
              "      <td>2</td>\n",
              "      <td>5</td>\n",
              "      <td>2</td>\n",
              "      <td>2</td>\n",
              "      <td>3</td>\n",
              "      <td>3</td>\n",
              "      <td>5</td>\n",
              "      <td>3</td>\n",
              "      <td>5</td>\n",
              "      <td>2</td>\n",
              "      <td>0</td>\n",
              "      <td>0.0</td>\n",
              "      <td>neutral or dissatisfied</td>\n",
              "    </tr>\n",
              "    <tr>\n",
              "      <th>15</th>\n",
              "      <td>Male</td>\n",
              "      <td>disloyal Customer</td>\n",
              "      <td>13</td>\n",
              "      <td>Business travel</td>\n",
              "      <td>Eco</td>\n",
              "      <td>486</td>\n",
              "      <td>2</td>\n",
              "      <td>1</td>\n",
              "      <td>2</td>\n",
              "      <td>3</td>\n",
              "      <td>4</td>\n",
              "      <td>2</td>\n",
              "      <td>1</td>\n",
              "      <td>4</td>\n",
              "      <td>2</td>\n",
              "      <td>1</td>\n",
              "      <td>4</td>\n",
              "      <td>1</td>\n",
              "      <td>3</td>\n",
              "      <td>4</td>\n",
              "      <td>1</td>\n",
              "      <td>0.0</td>\n",
              "      <td>neutral or dissatisfied</td>\n",
              "    </tr>\n",
              "    <tr>\n",
              "      <th>24</th>\n",
              "      <td>Female</td>\n",
              "      <td>disloyal Customer</td>\n",
              "      <td>23</td>\n",
              "      <td>Business travel</td>\n",
              "      <td>Eco</td>\n",
              "      <td>452</td>\n",
              "      <td>5</td>\n",
              "      <td>0</td>\n",
              "      <td>5</td>\n",
              "      <td>1</td>\n",
              "      <td>1</td>\n",
              "      <td>5</td>\n",
              "      <td>1</td>\n",
              "      <td>1</td>\n",
              "      <td>4</td>\n",
              "      <td>5</td>\n",
              "      <td>5</td>\n",
              "      <td>3</td>\n",
              "      <td>5</td>\n",
              "      <td>1</td>\n",
              "      <td>54</td>\n",
              "      <td>44.0</td>\n",
              "      <td>satisfied</td>\n",
              "    </tr>\n",
              "    <tr>\n",
              "      <th>...</th>\n",
              "      <td>...</td>\n",
              "      <td>...</td>\n",
              "      <td>...</td>\n",
              "      <td>...</td>\n",
              "      <td>...</td>\n",
              "      <td>...</td>\n",
              "      <td>...</td>\n",
              "      <td>...</td>\n",
              "      <td>...</td>\n",
              "      <td>...</td>\n",
              "      <td>...</td>\n",
              "      <td>...</td>\n",
              "      <td>...</td>\n",
              "      <td>...</td>\n",
              "      <td>...</td>\n",
              "      <td>...</td>\n",
              "      <td>...</td>\n",
              "      <td>...</td>\n",
              "      <td>...</td>\n",
              "      <td>...</td>\n",
              "      <td>...</td>\n",
              "      <td>...</td>\n",
              "      <td>...</td>\n",
              "    </tr>\n",
              "    <tr>\n",
              "      <th>103892</th>\n",
              "      <td>Female</td>\n",
              "      <td>disloyal Customer</td>\n",
              "      <td>37</td>\n",
              "      <td>Business travel</td>\n",
              "      <td>Business</td>\n",
              "      <td>596</td>\n",
              "      <td>3</td>\n",
              "      <td>3</td>\n",
              "      <td>3</td>\n",
              "      <td>4</td>\n",
              "      <td>3</td>\n",
              "      <td>3</td>\n",
              "      <td>3</td>\n",
              "      <td>3</td>\n",
              "      <td>1</td>\n",
              "      <td>1</td>\n",
              "      <td>3</td>\n",
              "      <td>1</td>\n",
              "      <td>4</td>\n",
              "      <td>3</td>\n",
              "      <td>110</td>\n",
              "      <td>121.0</td>\n",
              "      <td>neutral or dissatisfied</td>\n",
              "    </tr>\n",
              "    <tr>\n",
              "      <th>103895</th>\n",
              "      <td>Female</td>\n",
              "      <td>disloyal Customer</td>\n",
              "      <td>24</td>\n",
              "      <td>Business travel</td>\n",
              "      <td>Eco</td>\n",
              "      <td>1055</td>\n",
              "      <td>1</td>\n",
              "      <td>1</td>\n",
              "      <td>1</td>\n",
              "      <td>2</td>\n",
              "      <td>1</td>\n",
              "      <td>1</td>\n",
              "      <td>1</td>\n",
              "      <td>1</td>\n",
              "      <td>3</td>\n",
              "      <td>3</td>\n",
              "      <td>5</td>\n",
              "      <td>5</td>\n",
              "      <td>4</td>\n",
              "      <td>1</td>\n",
              "      <td>13</td>\n",
              "      <td>10.0</td>\n",
              "      <td>neutral or dissatisfied</td>\n",
              "    </tr>\n",
              "    <tr>\n",
              "      <th>103899</th>\n",
              "      <td>Female</td>\n",
              "      <td>disloyal Customer</td>\n",
              "      <td>23</td>\n",
              "      <td>Business travel</td>\n",
              "      <td>Eco</td>\n",
              "      <td>192</td>\n",
              "      <td>2</td>\n",
              "      <td>1</td>\n",
              "      <td>2</td>\n",
              "      <td>3</td>\n",
              "      <td>2</td>\n",
              "      <td>2</td>\n",
              "      <td>2</td>\n",
              "      <td>2</td>\n",
              "      <td>3</td>\n",
              "      <td>1</td>\n",
              "      <td>4</td>\n",
              "      <td>2</td>\n",
              "      <td>3</td>\n",
              "      <td>2</td>\n",
              "      <td>3</td>\n",
              "      <td>0.0</td>\n",
              "      <td>neutral or dissatisfied</td>\n",
              "    </tr>\n",
              "    <tr>\n",
              "      <th>103901</th>\n",
              "      <td>Male</td>\n",
              "      <td>disloyal Customer</td>\n",
              "      <td>30</td>\n",
              "      <td>Business travel</td>\n",
              "      <td>Business</td>\n",
              "      <td>1995</td>\n",
              "      <td>1</td>\n",
              "      <td>1</td>\n",
              "      <td>1</td>\n",
              "      <td>3</td>\n",
              "      <td>4</td>\n",
              "      <td>1</td>\n",
              "      <td>5</td>\n",
              "      <td>4</td>\n",
              "      <td>3</td>\n",
              "      <td>2</td>\n",
              "      <td>4</td>\n",
              "      <td>5</td>\n",
              "      <td>5</td>\n",
              "      <td>4</td>\n",
              "      <td>7</td>\n",
              "      <td>14.0</td>\n",
              "      <td>neutral or dissatisfied</td>\n",
              "    </tr>\n",
              "    <tr>\n",
              "      <th>103902</th>\n",
              "      <td>Female</td>\n",
              "      <td>disloyal Customer</td>\n",
              "      <td>22</td>\n",
              "      <td>Business travel</td>\n",
              "      <td>Eco</td>\n",
              "      <td>1000</td>\n",
              "      <td>1</td>\n",
              "      <td>1</td>\n",
              "      <td>1</td>\n",
              "      <td>5</td>\n",
              "      <td>1</td>\n",
              "      <td>1</td>\n",
              "      <td>1</td>\n",
              "      <td>1</td>\n",
              "      <td>4</td>\n",
              "      <td>5</td>\n",
              "      <td>1</td>\n",
              "      <td>5</td>\n",
              "      <td>4</td>\n",
              "      <td>1</td>\n",
              "      <td>0</td>\n",
              "      <td>0.0</td>\n",
              "      <td>neutral or dissatisfied</td>\n",
              "    </tr>\n",
              "  </tbody>\n",
              "</table>\n",
              "<p>18932 rows × 23 columns</p>\n",
              "</div>"
            ],
            "text/plain": [
              "        Gender  ...             satisfaction\n",
              "1         Male  ...  neutral or dissatisfied\n",
              "9         Male  ...  neutral or dissatisfied\n",
              "10      Female  ...  neutral or dissatisfied\n",
              "15        Male  ...  neutral or dissatisfied\n",
              "24      Female  ...                satisfied\n",
              "...        ...  ...                      ...\n",
              "103892  Female  ...  neutral or dissatisfied\n",
              "103895  Female  ...  neutral or dissatisfied\n",
              "103899  Female  ...  neutral or dissatisfied\n",
              "103901    Male  ...  neutral or dissatisfied\n",
              "103902  Female  ...  neutral or dissatisfied\n",
              "\n",
              "[18932 rows x 23 columns]"
            ]
          },
          "metadata": {},
          "execution_count": 94
        }
      ]
    },
    {
      "cell_type": "code",
      "metadata": {
        "id": "403c72f4"
      },
      "source": [
        ""
      ],
      "id": "403c72f4",
      "execution_count": 94,
      "outputs": []
    }
  ]
}